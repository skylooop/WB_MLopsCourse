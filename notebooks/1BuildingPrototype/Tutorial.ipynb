{
 "cells": [
  {
   "cell_type": "code",
   "execution_count": 1,
   "id": "fc1ef939",
   "metadata": {},
   "outputs": [],
   "source": [
    "WANDB_PROJECT = \"mlops-course-001\"\n",
    "ENTITY = None # set this to team name if working in a team\n",
    "\n",
    "BDD_CLASSES = {i: c for i,c in enumerate(['background', 'road', 'traffic light', 'traffic sign', 'person', 'vehicle', 'bicycle'])}\n",
    "RAW_DATA_AT = 'bdd_simple_1k'\n",
    "PROCESSED_DATA_AT = 'bdd_simple_1k_split'"
   ]
  },
  {
   "cell_type": "code",
   "execution_count": 2,
   "id": "4d58fc3a",
   "metadata": {
    "scrolled": true
   },
   "outputs": [
    {
     "name": "stdout",
     "output_type": "stream",
     "text": [
      "Requirement already satisfied: fastai in /storage/d.berezin/.local/lib/python3.8/site-packages (2.7.10)\n",
      "Requirement already satisfied: pip in /usr/lib/python3/dist-packages (from fastai) (20.0.2)\n",
      "Requirement already satisfied: fastdownload<2,>=0.0.5 in /storage/d.berezin/.local/lib/python3.8/site-packages (from fastai) (0.0.7)\n",
      "Requirement already satisfied: fastcore<1.6,>=1.4.5 in /storage/d.berezin/.local/lib/python3.8/site-packages (from fastai) (1.5.27)\n",
      "Requirement already satisfied: matplotlib in /storage/d.berezin/.local/lib/python3.8/site-packages (from fastai) (3.6.2)\n",
      "Requirement already satisfied: scipy in /storage/d.berezin/.local/lib/python3.8/site-packages (from fastai) (1.9.3)\n",
      "Requirement already satisfied: scikit-learn in /storage/d.berezin/.local/lib/python3.8/site-packages (from fastai) (1.2.0)\n",
      "Requirement already satisfied: torchvision>=0.8.2 in /storage/d.berezin/.local/lib/python3.8/site-packages (from fastai) (0.14.1)\n",
      "Requirement already satisfied: pyyaml in /usr/lib/python3/dist-packages (from fastai) (5.3.1)\n",
      "Requirement already satisfied: requests in /storage/d.berezin/.local/lib/python3.8/site-packages (from fastai) (2.28.1)\n",
      "Requirement already satisfied: fastprogress>=0.2.4 in /storage/d.berezin/.local/lib/python3.8/site-packages (from fastai) (1.0.3)\n",
      "Requirement already satisfied: pandas in /storage/d.berezin/.local/lib/python3.8/site-packages (from fastai) (1.4.1)\n",
      "Requirement already satisfied: torch<1.14,>=1.7 in /storage/d.berezin/.local/lib/python3.8/site-packages (from fastai) (1.13.1)\n",
      "Requirement already satisfied: spacy<4 in /storage/d.berezin/.local/lib/python3.8/site-packages (from fastai) (3.4.4)\n",
      "Requirement already satisfied: packaging in /storage/d.berezin/.local/lib/python3.8/site-packages (from fastai) (21.3)\n",
      "Requirement already satisfied: pillow>6.0.0 in /storage/d.berezin/.local/lib/python3.8/site-packages (from fastai) (9.3.0)\n",
      "Requirement already satisfied: contourpy>=1.0.1 in /storage/d.berezin/.local/lib/python3.8/site-packages (from matplotlib->fastai) (1.0.6)\n",
      "Requirement already satisfied: fonttools>=4.22.0 in /storage/d.berezin/.local/lib/python3.8/site-packages (from matplotlib->fastai) (4.38.0)\n",
      "Requirement already satisfied: pyparsing>=2.2.1 in /storage/d.berezin/.local/lib/python3.8/site-packages (from matplotlib->fastai) (3.0.7)\n",
      "Requirement already satisfied: python-dateutil>=2.7 in /storage/d.berezin/.local/lib/python3.8/site-packages (from matplotlib->fastai) (2.8.2)\n",
      "Requirement already satisfied: numpy>=1.19 in /storage/d.berezin/.local/lib/python3.8/site-packages (from matplotlib->fastai) (1.22.2)\n",
      "Requirement already satisfied: kiwisolver>=1.0.1 in /storage/d.berezin/.local/lib/python3.8/site-packages (from matplotlib->fastai) (1.4.4)\n",
      "Requirement already satisfied: cycler>=0.10 in /storage/d.berezin/.local/lib/python3.8/site-packages (from matplotlib->fastai) (0.11.0)\n",
      "Requirement already satisfied: joblib>=1.1.1 in /storage/d.berezin/.local/lib/python3.8/site-packages (from scikit-learn->fastai) (1.2.0)\n",
      "Requirement already satisfied: threadpoolctl>=2.0.0 in /storage/d.berezin/.local/lib/python3.8/site-packages (from scikit-learn->fastai) (3.1.0)\n",
      "Requirement already satisfied: typing-extensions in /storage/d.berezin/.local/lib/python3.8/site-packages (from torchvision>=0.8.2->fastai) (4.1.1)\n",
      "Requirement already satisfied: urllib3<1.27,>=1.21.1 in /storage/d.berezin/.local/lib/python3.8/site-packages (from requests->fastai) (1.26.13)\n",
      "Requirement already satisfied: charset-normalizer<3,>=2 in /storage/d.berezin/.local/lib/python3.8/site-packages (from requests->fastai) (2.1.1)\n",
      "Requirement already satisfied: certifi>=2017.4.17 in /usr/lib/python3/dist-packages (from requests->fastai) (2019.11.28)\n",
      "Requirement already satisfied: idna<4,>=2.5 in /usr/lib/python3/dist-packages (from requests->fastai) (2.8)\n",
      "Requirement already satisfied: pytz>=2020.1 in /storage/d.berezin/.local/lib/python3.8/site-packages (from pandas->fastai) (2021.3)\n",
      "Requirement already satisfied: nvidia-cudnn-cu11==8.5.0.96; platform_system == \"Linux\" in /storage/d.berezin/.local/lib/python3.8/site-packages (from torch<1.14,>=1.7->fastai) (8.5.0.96)\n",
      "Requirement already satisfied: nvidia-cuda-nvrtc-cu11==11.7.99; platform_system == \"Linux\" in /storage/d.berezin/.local/lib/python3.8/site-packages (from torch<1.14,>=1.7->fastai) (11.7.99)\n",
      "Requirement already satisfied: nvidia-cuda-runtime-cu11==11.7.99; platform_system == \"Linux\" in /storage/d.berezin/.local/lib/python3.8/site-packages (from torch<1.14,>=1.7->fastai) (11.7.99)\n",
      "Requirement already satisfied: nvidia-cublas-cu11==11.10.3.66; platform_system == \"Linux\" in /storage/d.berezin/.local/lib/python3.8/site-packages (from torch<1.14,>=1.7->fastai) (11.10.3.66)\n",
      "Requirement already satisfied: pathy>=0.3.5 in /storage/d.berezin/.local/lib/python3.8/site-packages (from spacy<4->fastai) (0.10.1)\n",
      "Requirement already satisfied: smart-open<7.0.0,>=5.2.1 in /storage/d.berezin/.local/lib/python3.8/site-packages (from spacy<4->fastai) (6.3.0)\n",
      "Requirement already satisfied: murmurhash<1.1.0,>=0.28.0 in /storage/d.berezin/.local/lib/python3.8/site-packages (from spacy<4->fastai) (1.0.9)\n",
      "Requirement already satisfied: catalogue<2.1.0,>=2.0.6 in /storage/d.berezin/.local/lib/python3.8/site-packages (from spacy<4->fastai) (2.0.8)\n",
      "Requirement already satisfied: preshed<3.1.0,>=3.0.2 in /storage/d.berezin/.local/lib/python3.8/site-packages (from spacy<4->fastai) (3.0.8)\n",
      "Requirement already satisfied: spacy-loggers<2.0.0,>=1.0.0 in /storage/d.berezin/.local/lib/python3.8/site-packages (from spacy<4->fastai) (1.0.4)\n",
      "Requirement already satisfied: spacy-legacy<3.1.0,>=3.0.10 in /storage/d.berezin/.local/lib/python3.8/site-packages (from spacy<4->fastai) (3.0.10)\n",
      "Requirement already satisfied: thinc<8.2.0,>=8.1.0 in /storage/d.berezin/.local/lib/python3.8/site-packages (from spacy<4->fastai) (8.1.6)\n",
      "Requirement already satisfied: typer<0.8.0,>=0.3.0 in /storage/d.berezin/.local/lib/python3.8/site-packages (from spacy<4->fastai) (0.7.0)\n",
      "Requirement already satisfied: wasabi<1.1.0,>=0.9.1 in /storage/d.berezin/.local/lib/python3.8/site-packages (from spacy<4->fastai) (0.10.1)\n",
      "Requirement already satisfied: jinja2 in /usr/lib/python3/dist-packages (from spacy<4->fastai) (2.10.1)\n",
      "Requirement already satisfied: langcodes<4.0.0,>=3.2.0 in /storage/d.berezin/.local/lib/python3.8/site-packages (from spacy<4->fastai) (3.3.0)\n",
      "Requirement already satisfied: srsly<3.0.0,>=2.4.3 in /storage/d.berezin/.local/lib/python3.8/site-packages (from spacy<4->fastai) (2.4.5)\n",
      "Requirement already satisfied: pydantic!=1.8,!=1.8.1,<1.11.0,>=1.7.4 in /storage/d.berezin/.local/lib/python3.8/site-packages (from spacy<4->fastai) (1.10.2)\n",
      "Requirement already satisfied: cymem<2.1.0,>=2.0.2 in /storage/d.berezin/.local/lib/python3.8/site-packages (from spacy<4->fastai) (2.0.7)\n",
      "Requirement already satisfied: setuptools in /usr/lib/python3/dist-packages (from spacy<4->fastai) (45.2.0)\n",
      "Requirement already satisfied: tqdm<5.0.0,>=4.38.0 in /storage/d.berezin/.local/lib/python3.8/site-packages (from spacy<4->fastai) (4.64.1)\n",
      "Requirement already satisfied: six>=1.5 in /usr/lib/python3/dist-packages (from python-dateutil>=2.7->matplotlib->fastai) (1.14.0)\n",
      "Requirement already satisfied: wheel in /usr/lib/python3/dist-packages (from nvidia-cuda-runtime-cu11==11.7.99; platform_system == \"Linux\"->torch<1.14,>=1.7->fastai) (0.34.2)\n",
      "Requirement already satisfied: confection<1.0.0,>=0.0.1 in /storage/d.berezin/.local/lib/python3.8/site-packages (from thinc<8.2.0,>=8.1.0->spacy<4->fastai) (0.0.3)\n",
      "Requirement already satisfied: blis<0.8.0,>=0.7.8 in /storage/d.berezin/.local/lib/python3.8/site-packages (from thinc<8.2.0,>=8.1.0->spacy<4->fastai) (0.7.9)\n",
      "Requirement already satisfied: click<9.0.0,>=7.1.1 in /storage/d.berezin/.local/lib/python3.8/site-packages (from typer<0.8.0,>=0.3.0->spacy<4->fastai) (8.0.4)\n"
     ]
    }
   ],
   "source": [
    "!pip install wandb -qq\n",
    "!pip install fastai"
   ]
  },
  {
   "cell_type": "code",
   "execution_count": 3,
   "id": "0f71ef4d",
   "metadata": {},
   "outputs": [
    {
     "data": {
      "text/html": [
       "\n",
       "<style>\n",
       "    /* Turns off some styling */\n",
       "    progress {\n",
       "        /* gets rid of default border in Firefox and Opera. */\n",
       "        border: none;\n",
       "        /* Needs to be in here for Safari polyfill so background images work as expected. */\n",
       "        background-size: auto;\n",
       "    }\n",
       "    progress:not([value]), progress:not([value])::-webkit-progress-bar {\n",
       "        background: repeating-linear-gradient(45deg, #7e7e7e, #7e7e7e 10px, #5c5c5c 10px, #5c5c5c 20px);\n",
       "    }\n",
       "    .progress-bar-interrupted, .progress-bar-interrupted::-webkit-progress-bar {\n",
       "        background: #F44336;\n",
       "    }\n",
       "</style>\n"
      ],
      "text/plain": [
       "<IPython.core.display.HTML object>"
      ]
     },
     "metadata": {},
     "output_type": "display_data"
    },
    {
     "data": {
      "text/html": [
       "\n",
       "    <div>\n",
       "      <progress value='122470400' class='' max='122467691' style='width:300px; height:20px; vertical-align: middle;'></progress>\n",
       "      100.00% [122470400/122467691 00:15&lt;00:00]\n",
       "    </div>\n",
       "    "
      ],
      "text/plain": [
       "<IPython.core.display.HTML object>"
      ]
     },
     "metadata": {},
     "output_type": "display_data"
    }
   ],
   "source": [
    "import os \n",
    "from pathlib import Path\n",
    "from fastai.vision.all import untar_data\n",
    "\n",
    "URL = 'https://storage.googleapis.com/wandb_course/bdd_simple_1k.zip'\n",
    "\n",
    "path = Path(untar_data(URL, force_download=True))"
   ]
  },
  {
   "cell_type": "code",
   "execution_count": 4,
   "id": "93f45f48",
   "metadata": {},
   "outputs": [
    {
     "data": {
      "text/plain": [
       "(#3) [Path('/storage/d.berezin/.fastai/data/bdd_simple_1k/LICENSE.txt'),Path('/storage/d.berezin/.fastai/data/bdd_simple_1k/images'),Path('/storage/d.berezin/.fastai/data/bdd_simple_1k/labels')]"
      ]
     },
     "execution_count": 4,
     "metadata": {},
     "output_type": "execute_result"
    }
   ],
   "source": [
    "path.ls()"
   ]
  },
  {
   "cell_type": "code",
   "execution_count": 5,
   "id": "1dd34a61",
   "metadata": {},
   "outputs": [
    {
     "data": {
      "text/plain": [
       "(#1000) [Path('/storage/d.berezin/.fastai/data/bdd_simple_1k/images/972ab49a-6a6eeaf5.jpg'),Path('/storage/d.berezin/.fastai/data/bdd_simple_1k/images/0a723d61-9885002e.jpg'),Path('/storage/d.berezin/.fastai/data/bdd_simple_1k/images/9c678386-81c3086d.jpg'),Path('/storage/d.berezin/.fastai/data/bdd_simple_1k/images/00aad4a0-ee8135fe.jpg'),Path('/storage/d.berezin/.fastai/data/bdd_simple_1k/images/80c62ee8-d23ec5b6.jpg'),Path('/storage/d.berezin/.fastai/data/bdd_simple_1k/images/099601d0-1b31f4ff.jpg'),Path('/storage/d.berezin/.fastai/data/bdd_simple_1k/images/772ac765-5f47e414.jpg'),Path('/storage/d.berezin/.fastai/data/bdd_simple_1k/images/a91b7555-00000100.jpg'),Path('/storage/d.berezin/.fastai/data/bdd_simple_1k/images/2224c461-351255b4.jpg'),Path('/storage/d.berezin/.fastai/data/bdd_simple_1k/images/346be4c0-c6743dbd.jpg')...]"
      ]
     },
     "execution_count": 5,
     "metadata": {},
     "output_type": "execute_result"
    }
   ],
   "source": [
    "from fastai.vision.all import *\n",
    "\n",
    "#get image files responsible for getting images from folder path\n",
    "files = get_image_files(path/\"images\")\n",
    "files"
   ]
  },
  {
   "cell_type": "code",
   "execution_count": 6,
   "id": "ba9c0e2d",
   "metadata": {},
   "outputs": [],
   "source": [
    "#func for getting labels\n",
    "def label_func(fname):\n",
    "    return (fname.parent.parent/\"labels\")/f\"{fname.stem}_mask.png\""
   ]
  },
  {
   "cell_type": "code",
   "execution_count": 7,
   "id": "1991a440",
   "metadata": {},
   "outputs": [
    {
     "data": {
      "text/plain": [
       "<matplotlib.image.AxesImage at 0x7f5834f9b940>"
      ]
     },
     "execution_count": 7,
     "metadata": {},
     "output_type": "execute_result"
    },
    {
     "data": {
      "image/png": "[encoded data removed]",
      "text/plain": [
       "<Figure size 432x288 with 1 Axes>"
      ]
     },
     "metadata": {
      "needs_background": "light"
     },
     "output_type": "display_data"
    }
   ],
   "source": [
    "import matplotlib.pyplot as plt\n",
    "from PIL import Image\n",
    "\n",
    "test_img = Image.open(label_func(files[2]))\n",
    "plt.imshow(test_img)"
   ]
  },
  {
   "cell_type": "code",
   "execution_count": 8,
   "id": "9a97e32f",
   "metadata": {},
   "outputs": [
    {
     "data": {
      "text/plain": [
       "array([5, 5, 5, ..., 0, 0, 0], dtype=uint8)"
      ]
     },
     "execution_count": 8,
     "metadata": {},
     "output_type": "execute_result"
    }
   ],
   "source": [
    "np.array(test_img)[400, :]"
   ]
  },
  {
   "cell_type": "markdown",
   "id": "40de15b7",
   "metadata": {},
   "source": [
    "### We have 6 unique segmentations masks"
   ]
  },
  {
   "cell_type": "code",
   "execution_count": 9,
   "id": "996618d7",
   "metadata": {},
   "outputs": [
    {
     "data": {
      "text/plain": [
       "[0, 1, 2, 3, 4, 5]"
      ]
     },
     "execution_count": 9,
     "metadata": {},
     "output_type": "execute_result"
    }
   ],
   "source": [
    "list(np.unique(np.array(test_img)))"
   ]
  },
  {
   "cell_type": "code",
   "execution_count": 10,
   "id": "440edc73",
   "metadata": {},
   "outputs": [
    {
     "data": {
      "text/plain": [
       "{0: 'background',\n",
       " 1: 'road',\n",
       " 2: 'traffic light',\n",
       " 3: 'traffic sign',\n",
       " 4: 'person',\n",
       " 5: 'vehicle',\n",
       " 6: 'bicycle'}"
      ]
     },
     "execution_count": 10,
     "metadata": {},
     "output_type": "execute_result"
    }
   ],
   "source": [
    "BDD_CLASSES"
   ]
  },
  {
   "cell_type": "code",
   "execution_count": 11,
   "id": "451d9b74",
   "metadata": {},
   "outputs": [
    {
     "data": {
      "text/plain": [
       "{'background': 1,\n",
       " 'road': 1,\n",
       " 'traffic light': 1,\n",
       " 'traffic sign': 1,\n",
       " 'person': 1,\n",
       " 'vehicle': 1,\n",
       " 'bicycle': 0}"
      ]
     },
     "execution_count": 11,
     "metadata": {},
     "output_type": "execute_result"
    }
   ],
   "source": [
    "import typing as tp\n",
    "\n",
    "def get_classes_per_image(mask_data, class_labels) -> tp.Dict[str, int]:\n",
    "    unique = list(np.unique(mask_data)) # count the number of labels in mask\n",
    "    result_dict = {}\n",
    "    \n",
    "    for _class in class_labels.keys():\n",
    "        if _class in unique:\n",
    "            result_dict[class_labels[_class]] = 1\n",
    "        else:\n",
    "            result_dict[class_labels[_class]] = 0\n",
    "        \n",
    "    return result_dict\n",
    "\n",
    "get_classes_per_image(np.array(test_img), BDD_CLASSES)"
   ]
  },
  {
   "cell_type": "code",
   "execution_count": 12,
   "id": "5aba54b6",
   "metadata": {},
   "outputs": [
    {
     "data": {
      "text/plain": [
       "['background',\n",
       " 'road',\n",
       " 'traffic light',\n",
       " 'traffic sign',\n",
       " 'person',\n",
       " 'vehicle',\n",
       " 'bicycle']"
      ]
     },
     "execution_count": 12,
     "metadata": {},
     "output_type": "execute_result"
    }
   ],
   "source": [
    "[str(BDD_CLASSES[_lab]) for _lab in list(BDD_CLASSES)]"
   ]
  },
  {
   "cell_type": "code",
   "execution_count": 13,
   "id": "cea7e953",
   "metadata": {},
   "outputs": [
    {
     "data": {
      "text/plain": [
       "['background',\n",
       " 'road',\n",
       " 'traffic light',\n",
       " 'traffic sign',\n",
       " 'person',\n",
       " 'vehicle',\n",
       " 'bicycle']"
      ]
     },
     "execution_count": 13,
     "metadata": {},
     "output_type": "execute_result"
    }
   ],
   "source": [
    "list(BDD_CLASSES.values())"
   ]
  },
  {
   "cell_type": "code",
   "execution_count": 14,
   "id": "2758d0b4",
   "metadata": {},
   "outputs": [],
   "source": [
    "??progress_bar"
   ]
  },
  {
   "cell_type": "code",
   "execution_count": 15,
   "id": "6d79e23a",
   "metadata": {},
   "outputs": [],
   "source": [
    "def _create_table(image_files, class_labels):\n",
    "    labels = list(BDD_CLASSES.values()) #[str(class_labels[_lab]) for _lab in list(class_labels)]\n",
    "    table = wandb.Table(columns=[\"File_Name\",\"P1\", \"P2\", \"Images\", \"Split\"] + labels)\n",
    "    \n",
    "    for i, image_file in progress_bar(enumerate(image_files), total=len(image_files)):\n",
    "        image = Image.open(image_file)\n",
    "        mask_data = np.array(Image.open(label_func(image_file)))\n",
    "        \n",
    "        class_in_image = get_classes_per_image(mask_data, class_labels) # dict\n",
    "        table.add_data(\n",
    "            str(image_file.name),\n",
    "            image_file.stem.split('-')[0],\n",
    "            image_file.stem.split('-')[1],\n",
    "            wandb.Image(\n",
    "                    image,\n",
    "                    masks={\n",
    "                        \"predictions\": {\n",
    "                            \"mask_data\": mask_data,\n",
    "                            \"class_labels\": class_labels,\n",
    "                        }\n",
    "                    }\n",
    "            ),\n",
    "            \"None\", # we don't have a dataset split yet\n",
    "            *[class_in_image[_lab] for _lab in labels]\n",
    "        )\n",
    "    \n",
    "    return table\n",
    "     "
   ]
  },
  {
   "cell_type": "code",
   "execution_count": 16,
   "id": "007f4724",
   "metadata": {},
   "outputs": [
    {
     "name": "stderr",
     "output_type": "stream",
     "text": [
      "\u001b[34m\u001b[1mwandb\u001b[0m: Currently logged in as: \u001b[33msimmax21\u001b[0m. Use \u001b[1m`wandb login --relogin`\u001b[0m to force relogin\n"
     ]
    },
    {
     "data": {
      "text/html": [
       "Tracking run with wandb version 0.13.7"
      ],
      "text/plain": [
       "<IPython.core.display.HTML object>"
      ]
     },
     "metadata": {},
     "output_type": "display_data"
    },
    {
     "data": {
      "text/html": [
       "Run data is saved locally in <code>/storage/d.berezin/m_bobrin/WB_MLopsCourse/notebooks/1BuildingPrototype/wandb/run-20221223_153956-osdoe9lw</code>"
      ],
      "text/plain": [
       "<IPython.core.display.HTML object>"
      ]
     },
     "metadata": {},
     "output_type": "display_data"
    },
    {
     "data": {
      "text/html": [
       "Syncing run <strong><a href=\"https://wandb.ai/simmax21/mlops-course-001/runs/osdoe9lw\" target=\"_blank\">celestial-capybara-5</a></strong> to <a href=\"https://wandb.ai/simmax21/mlops-course-001\" target=\"_blank\">Weights & Biases</a> (<a href=\"https://wandb.me/run\" target=\"_blank\">docs</a>)<br/>"
      ],
      "text/plain": [
       "<IPython.core.display.HTML object>"
      ]
     },
     "metadata": {},
     "output_type": "display_data"
    }
   ],
   "source": [
    "import wandb\n",
    "\n",
    "run = wandb.init(project=WANDB_PROJECT, job_type=\"upload\")\n",
    "\n",
    "# Create so called base\n",
    "raw_data_at = wandb.Artifact('bdd_simple_1k_split', type=\"raw_data\")"
   ]
  },
  {
   "cell_type": "code",
   "execution_count": 17,
   "id": "9f35cbcc",
   "metadata": {},
   "outputs": [
    {
     "data": {
      "text/plain": [
       "<ManifestEntry digest: X+6ZFkDOlnKesJCNt20yRg==>"
      ]
     },
     "execution_count": 17,
     "metadata": {},
     "output_type": "execute_result"
    }
   ],
   "source": [
    "raw_data_at.add_file(path/'LICENSE.txt', name='LICENSE.txt')"
   ]
  },
  {
   "cell_type": "code",
   "execution_count": 18,
   "id": "972a420e",
   "metadata": {},
   "outputs": [
    {
     "name": "stderr",
     "output_type": "stream",
     "text": [
      "\u001b[34m\u001b[1mwandb\u001b[0m: Adding directory to artifact (/storage/d.berezin/.fastai/data/bdd_simple_1k/images)... Done. 0.4s\n",
      "\u001b[34m\u001b[1mwandb\u001b[0m: Adding directory to artifact (/storage/d.berezin/.fastai/data/bdd_simple_1k/labels)... Done. 0.5s\n"
     ]
    }
   ],
   "source": [
    "raw_data_at.add_dir(path/'images', name='images')\n",
    "raw_data_at.add_dir(path/'labels', name='labels')"
   ]
  },
  {
   "cell_type": "code",
   "execution_count": 19,
   "id": "7c62f22a",
   "metadata": {},
   "outputs": [
    {
     "data": {
      "text/html": [
       "\n",
       "<style>\n",
       "    /* Turns off some styling */\n",
       "    progress {\n",
       "        /* gets rid of default border in Firefox and Opera. */\n",
       "        border: none;\n",
       "        /* Needs to be in here for Safari polyfill so background images work as expected. */\n",
       "        background-size: auto;\n",
       "    }\n",
       "    progress:not([value]), progress:not([value])::-webkit-progress-bar {\n",
       "        background: repeating-linear-gradient(45deg, #7e7e7e, #7e7e7e 10px, #5c5c5c 10px, #5c5c5c 20px);\n",
       "    }\n",
       "    .progress-bar-interrupted, .progress-bar-interrupted::-webkit-progress-bar {\n",
       "        background: #F44336;\n",
       "    }\n",
       "</style>\n"
      ],
      "text/plain": [
       "<IPython.core.display.HTML object>"
      ]
     },
     "metadata": {},
     "output_type": "display_data"
    },
    {
     "data": {
      "text/html": [
       "\n",
       "    <div>\n",
       "      <progress value='1000' class='' max='1000' style='width:300px; height:20px; vertical-align: middle;'></progress>\n",
       "      100.00% [1000/1000 04:39&lt;00:00]\n",
       "    </div>\n",
       "    "
      ],
      "text/plain": [
       "<IPython.core.display.HTML object>"
      ]
     },
     "metadata": {},
     "output_type": "display_data"
    }
   ],
   "source": [
    "image_files = get_image_files(path/\"images\", recurse=False)\n",
    "\n",
    "table = _create_table(image_files, BDD_CLASSES)"
   ]
  },
  {
   "cell_type": "code",
   "execution_count": 20,
   "id": "2cd98285",
   "metadata": {},
   "outputs": [
    {
     "data": {
      "text/html": [
       "Waiting for W&B process to finish... <strong style=\"color:green\">(success).</strong>"
      ],
      "text/plain": [
       "<IPython.core.display.HTML object>"
      ]
     },
     "metadata": {},
     "output_type": "display_data"
    },
    {
     "data": {
      "text/html": [
       "Synced <strong style=\"color:#cdcd00\">celestial-capybara-5</strong>: <a href=\"https://wandb.ai/simmax21/mlops-course-001/runs/osdoe9lw\" target=\"_blank\">https://wandb.ai/simmax21/mlops-course-001/runs/osdoe9lw</a><br/>Synced 5 W&B file(s), 0 media file(s), 4007 artifact file(s) and 0 other file(s)"
      ],
      "text/plain": [
       "<IPython.core.display.HTML object>"
      ]
     },
     "metadata": {},
     "output_type": "display_data"
    },
    {
     "data": {
      "text/html": [
       "Find logs at: <code>./wandb/run-20221223_153956-osdoe9lw/logs</code>"
      ],
      "text/plain": [
       "<IPython.core.display.HTML object>"
      ]
     },
     "metadata": {},
     "output_type": "display_data"
    }
   ],
   "source": [
    "raw_data_at.add(table, \"eda_table\")\n",
    "\n",
    "run.log_artifact(raw_data_at)\n",
    "run.finish()"
   ]
  },
  {
   "cell_type": "code",
   "execution_count": null,
   "id": "d95cbd50",
   "metadata": {},
   "outputs": [],
   "source": []
  }
 ],
 "metadata": {
  "kernelspec": {
   "display_name": "Python 3 (ipykernel)",
   "language": "python",
   "name": "python3"
  },
  "language_info": {
   "codemirror_mode": {
    "name": "ipython",
    "version": 3
   },
   "file_extension": ".py",
   "mimetype": "text/x-python",
   "name": "python",
   "nbconvert_exporter": "python",
   "pygments_lexer": "ipython3",
   "version": "3.8.10"
  }
 },
 "nbformat": 4,
 "nbformat_minor": 5
}
