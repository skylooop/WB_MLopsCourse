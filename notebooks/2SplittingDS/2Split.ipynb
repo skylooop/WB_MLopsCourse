{
 "cells": [
  {
   "cell_type": "code",
   "execution_count": 1,
   "id": "634a83ff",
   "metadata": {},
   "outputs": [
    {
     "name": "stderr",
     "output_type": "stream",
     "text": [
      "/home/m_bobrin/anaconda3/envs/RL/lib/python3.9/site-packages/torchvision/io/image.py:13: UserWarning: Failed to load image Python extension: /home/m_bobrin/anaconda3/envs/RL/lib/python3.9/site-packages/torchvision/image.so: undefined symbol: _ZN5torch3jit17parseSchemaOrNameERKNSt7__cxx1112basic_stringIcSt11char_traitsIcESaIcEEE\n",
      "  warn(f\"Failed to load image Python extension: {e}\")\n"
     ]
    }
   ],
   "source": [
    "import wandb\n",
    "\n",
    "import os, warnings\n",
    "from fastai.vision.all import *\n",
    "from sklearn.model_selection import StratifiedGroupKFold\n",
    "from pathlib import Path\n",
    "\n",
    "WANDB_PROJECT = \"mlops-course-001\"\n",
    "\n",
    "RAW_DATA_AT = 'bdd_simple_1k'\n",
    "PROCESSED_DATA_AT = 'bdd_simple_1k_split'\n",
    "\n",
    "warnings.filterwarnings('ignore')"
   ]
  },
  {
   "cell_type": "code",
   "execution_count": 2,
   "id": "e62cf285-15ce-4966-9ca6-87e3f0aa7366",
   "metadata": {
    "collapsed": true,
    "jupyter": {
     "outputs_hidden": true
    },
    "tags": []
   },
   "outputs": [
    {
     "name": "stdout",
     "output_type": "stream",
     "text": [
      "Requirement already satisfied: wandb in /home/m_bobrin/anaconda3/envs/RL/lib/python3.9/site-packages (0.13.7)\n",
      "Requirement already satisfied: psutil>=5.0.0 in /home/m_bobrin/anaconda3/envs/RL/lib/python3.9/site-packages (from wandb) (5.9.2)\n",
      "Requirement already satisfied: GitPython>=1.0.0 in /home/m_bobrin/anaconda3/envs/RL/lib/python3.9/site-packages (from wandb) (3.1.27)\n",
      "Requirement already satisfied: pathtools in /home/m_bobrin/anaconda3/envs/RL/lib/python3.9/site-packages (from wandb) (0.1.2)\n",
      "Requirement already satisfied: docker-pycreds>=0.4.0 in /home/m_bobrin/anaconda3/envs/RL/lib/python3.9/site-packages (from wandb) (0.4.0)\n",
      "Requirement already satisfied: protobuf!=4.21.0,<5,>=3.15.0 in /home/m_bobrin/anaconda3/envs/RL/lib/python3.9/site-packages (from wandb) (3.19.5)\n",
      "Requirement already satisfied: sentry-sdk>=1.0.0 in /home/m_bobrin/anaconda3/envs/RL/lib/python3.9/site-packages (from wandb) (1.9.9)\n",
      "Requirement already satisfied: PyYAML in /home/m_bobrin/anaconda3/envs/RL/lib/python3.9/site-packages (from wandb) (6.0)\n",
      "Requirement already satisfied: setproctitle in /home/m_bobrin/anaconda3/envs/RL/lib/python3.9/site-packages (from wandb) (1.3.2)\n",
      "Requirement already satisfied: setuptools in /home/m_bobrin/anaconda3/envs/RL/lib/python3.9/site-packages (from wandb) (65.5.0)\n",
      "Requirement already satisfied: promise<3,>=2.0 in /home/m_bobrin/anaconda3/envs/RL/lib/python3.9/site-packages (from wandb) (2.3)\n",
      "Requirement already satisfied: shortuuid>=0.5.0 in /home/m_bobrin/anaconda3/envs/RL/lib/python3.9/site-packages (from wandb) (1.0.9)\n",
      "Requirement already satisfied: Click!=8.0.0,>=7.0 in /home/m_bobrin/anaconda3/envs/RL/lib/python3.9/site-packages (from wandb) (8.0.4)\n",
      "Requirement already satisfied: requests<3,>=2.0.0 in /home/m_bobrin/anaconda3/envs/RL/lib/python3.9/site-packages (from wandb) (2.28.1)\n",
      "Requirement already satisfied: six>=1.4.0 in /home/m_bobrin/anaconda3/envs/RL/lib/python3.9/site-packages (from docker-pycreds>=0.4.0->wandb) (1.16.0)\n",
      "Requirement already satisfied: gitdb<5,>=4.0.1 in /home/m_bobrin/anaconda3/envs/RL/lib/python3.9/site-packages (from GitPython>=1.0.0->wandb) (4.0.9)\n",
      "Requirement already satisfied: idna<4,>=2.5 in /home/m_bobrin/anaconda3/envs/RL/lib/python3.9/site-packages (from requests<3,>=2.0.0->wandb) (3.4)\n",
      "Requirement already satisfied: urllib3<1.27,>=1.21.1 in /home/m_bobrin/anaconda3/envs/RL/lib/python3.9/site-packages (from requests<3,>=2.0.0->wandb) (1.26.11)\n",
      "Requirement already satisfied: certifi>=2017.4.17 in /home/m_bobrin/anaconda3/envs/RL/lib/python3.9/site-packages (from requests<3,>=2.0.0->wandb) (2022.9.24)\n",
      "Requirement already satisfied: charset-normalizer<3,>=2 in /home/m_bobrin/anaconda3/envs/RL/lib/python3.9/site-packages (from requests<3,>=2.0.0->wandb) (2.1.1)\n",
      "Requirement already satisfied: smmap<6,>=3.0.1 in /home/m_bobrin/anaconda3/envs/RL/lib/python3.9/site-packages (from gitdb<5,>=4.0.1->GitPython>=1.0.0->wandb) (5.0.0)\n"
     ]
    }
   ],
   "source": [
    "!pip install wandb --upgrade"
   ]
  },
  {
   "cell_type": "code",
   "execution_count": 3,
   "id": "2cae66b3",
   "metadata": {},
   "outputs": [
    {
     "name": "stderr",
     "output_type": "stream",
     "text": [
      "\u001b[34m\u001b[1mwandb\u001b[0m: Currently logged in as: \u001b[33msimmax21\u001b[0m. Use \u001b[1m`wandb login --relogin`\u001b[0m to force relogin\n"
     ]
    },
    {
     "data": {
      "text/html": [
       "Tracking run with wandb version 0.13.7"
      ],
      "text/plain": [
       "<IPython.core.display.HTML object>"
      ]
     },
     "metadata": {},
     "output_type": "display_data"
    },
    {
     "data": {
      "text/html": [
       "Run data is saved locally in <code>/home/m_bobrin/WB_MLopsCourse/notebooks/2SplittingDS/wandb/run-20221224_172344-29y5qg8w</code>"
      ],
      "text/plain": [
       "<IPython.core.display.HTML object>"
      ]
     },
     "metadata": {},
     "output_type": "display_data"
    },
    {
     "data": {
      "text/html": [
       "Syncing run <strong><a href=\"https://wandb.ai/simmax21/mlops-course-001/runs/29y5qg8w\" target=\"_blank\">electric-paper-8</a></strong> to <a href=\"https://wandb.ai/simmax21/mlops-course-001\" target=\"_blank\">Weights & Biases</a> (<a href=\"https://wandb.me/run\" target=\"_blank\">docs</a>)<br/>"
      ],
      "text/plain": [
       "<IPython.core.display.HTML object>"
      ]
     },
     "metadata": {},
     "output_type": "display_data"
    }
   ],
   "source": [
    "run = wandb.init(project=WANDB_PROJECT, job_type='data_split')"
   ]
  },
  {
   "cell_type": "code",
   "execution_count": 4,
   "id": "e752b2da-cbc7-4d1f-a2eb-0278b38d228d",
   "metadata": {},
   "outputs": [
    {
     "name": "stderr",
     "output_type": "stream",
     "text": [
      "\u001b[34m\u001b[1mwandb\u001b[0m: Downloading large artifact bdd_simple_1k_split:latest, 846.59MB. 4007 files... \n",
      "\u001b[34m\u001b[1mwandb\u001b[0m:   4007 of 4007 files downloaded.  \n",
      "Done. 0:0:6.0\n"
     ]
    }
   ],
   "source": [
    "raw_data_at = run.use_artifact('bdd_simple_1k_split:latest')\n",
    "path = Path(raw_data_at.download(root=\"/home/m_bobrin/trash_data\"))"
   ]
  },
  {
   "cell_type": "code",
   "execution_count": 5,
   "id": "d73af678-fb89-483f-b88e-689293f5f95e",
   "metadata": {},
   "outputs": [
    {
     "data": {
      "text/plain": [
       "(#5) [Path('/home/m_bobrin/trash_data/media'),Path('/home/m_bobrin/trash_data/eda_table.table.json'),Path('/home/m_bobrin/trash_data/LICENSE.txt'),Path('/home/m_bobrin/trash_data/labels'),Path('/home/m_bobrin/trash_data/images')]"
      ]
     },
     "execution_count": 5,
     "metadata": {},
     "output_type": "execute_result"
    }
   ],
   "source": [
    "path.ls()"
   ]
  },
  {
   "cell_type": "code",
   "execution_count": 6,
   "id": "48a4db55-2a47-41f1-aea4-4686730102dd",
   "metadata": {},
   "outputs": [
    {
     "name": "stderr",
     "output_type": "stream",
     "text": [
      "\u001b[34m\u001b[1mwandb\u001b[0m: Downloading large artifact bdd_simple_1k_split:latest, 846.59MB. 4007 files... \n",
      "\u001b[34m\u001b[1mwandb\u001b[0m:   4007 of 4007 files downloaded.  \n",
      "Done. 0:0:6.1\n"
     ]
    }
   ],
   "source": [
    "orig_table = raw_data_at.get(\"eda_table\")"
   ]
  },
  {
   "cell_type": "code",
   "execution_count": 10,
   "id": "1b437968-02b6-4c31-8b20-9ffc82cb83c6",
   "metadata": {},
   "outputs": [],
   "source": [
    "fnames = orig_table.get_column('File_Name')\n",
    "groups = [s.split('-')[0] for s in fnames]\n",
    "\n",
    "y = orig_table.get_column('bicycle')"
   ]
  },
  {
   "cell_type": "code",
   "execution_count": 11,
   "id": "c1da14ce-c001-4af5-995e-8fd5d7bed6eb",
   "metadata": {},
   "outputs": [],
   "source": [
    "df = pd.DataFrame()\n",
    "df['File_Name'] = fnames\n",
    "df['fold'] = -1"
   ]
  },
  {
   "cell_type": "code",
   "execution_count": 13,
   "id": "a681864d-34bf-4657-b8ed-440b95ecf7bb",
   "metadata": {},
   "outputs": [],
   "source": [
    "cv = StratifiedGroupKFold(n_splits=10)\n",
    "for i, (train_idx, test_idx) in enumerate(cv.split(fnames, y, groups)):\n",
    "    df.loc[test_idx, ['fold']] = i"
   ]
  },
  {
   "cell_type": "code",
   "execution_count": 14,
   "id": "b28adda6-e88c-47f5-bf8d-992a6f1466ea",
   "metadata": {},
   "outputs": [
    {
     "data": {
      "text/plain": [
       "train    800\n",
       "valid    100\n",
       "test     100\n",
       "Name: Stage, dtype: int64"
      ]
     },
     "execution_count": 14,
     "metadata": {},
     "output_type": "execute_result"
    }
   ],
   "source": [
    "df['Stage'] = 'train'\n",
    "df.loc[df.fold == 0, ['Stage']] = 'test'\n",
    "df.loc[df.fold == 1, ['Stage']] = 'valid'\n",
    "\n",
    "del df['fold']\n",
    "df.Stage.value_counts()"
   ]
  },
  {
   "cell_type": "code",
   "execution_count": 19,
   "id": "b353a822-ae03-440d-a7e1-12a41f50466a",
   "metadata": {},
   "outputs": [
    {
     "name": "stderr",
     "output_type": "stream",
     "text": [
      "\u001b[34m\u001b[1mwandb\u001b[0m: Adding directory to artifact (/home/m_bobrin/trash_data)... Done. 0.9s\n"
     ]
    }
   ],
   "source": [
    "df.to_csv('data_split.csv', index=False)\n",
    "processed_data = wandb.Artifact('bdd_simple_1k_processed', type='split_data')\n",
    "processed_data.add_file('data_split.csv')\n",
    "processed_data.add_dir(path)"
   ]
  },
  {
   "cell_type": "code",
   "execution_count": 20,
   "id": "f1df63d1-5540-4ddc-98de-10e4c6c5ff12",
   "metadata": {},
   "outputs": [
    {
     "data": {
      "text/plain": [
       "<ManifestEntry digest: Y9Js/64jMfdPNKKQNsmFfg==>"
      ]
     },
     "execution_count": 20,
     "metadata": {},
     "output_type": "execute_result"
    }
   ],
   "source": [
    "data_split_table = wandb.Table(dataframe=df[['File_Name', 'Stage']])\n",
    "join_table = wandb.JoinedTable(orig_table, data_split_table, 'File_Name')\n",
    "processed_data.add(join_table, \"data_split_table\")"
   ]
  },
  {
   "cell_type": "code",
   "execution_count": 21,
   "id": "5a7f9898-6a76-4abc-b4a1-ff36cb436472",
   "metadata": {},
   "outputs": [
    {
     "data": {
      "text/html": [
       "Waiting for W&B process to finish... <strong style=\"color:green\">(success).</strong>"
      ],
      "text/plain": [
       "<IPython.core.display.HTML object>"
      ]
     },
     "metadata": {},
     "output_type": "display_data"
    },
    {
     "data": {
      "text/html": [
       "Synced <strong style=\"color:#cdcd00\">electric-paper-8</strong>: <a href=\"https://wandb.ai/simmax21/mlops-course-001/runs/29y5qg8w\" target=\"_blank\">https://wandb.ai/simmax21/mlops-course-001/runs/29y5qg8w</a><br/>Synced 5 W&B file(s), 0 media file(s), 4009 artifact file(s) and 0 other file(s)"
      ],
      "text/plain": [
       "<IPython.core.display.HTML object>"
      ]
     },
     "metadata": {},
     "output_type": "display_data"
    },
    {
     "data": {
      "text/html": [
       "Find logs at: <code>./wandb/run-20221224_172344-29y5qg8w/logs</code>"
      ],
      "text/plain": [
       "<IPython.core.display.HTML object>"
      ]
     },
     "metadata": {},
     "output_type": "display_data"
    }
   ],
   "source": [
    "run.log_artifact(processed_data)\n",
    "run.finish()"
   ]
  },
  {
   "cell_type": "code",
   "execution_count": null,
   "id": "991af15e-d0cf-40b7-b383-96e9dba7e7e9",
   "metadata": {},
   "outputs": [],
   "source": []
  }
 ],
 "metadata": {
  "kernelspec": {
   "display_name": "Python 3 (ipykernel)",
   "language": "python",
   "name": "python3"
  },
  "language_info": {
   "codemirror_mode": {
    "name": "ipython",
    "version": 3
   },
   "file_extension": ".py",
   "mimetype": "text/x-python",
   "name": "python",
   "nbconvert_exporter": "python",
   "pygments_lexer": "ipython3",
   "version": "3.9.13"
  }
 },
 "nbformat": 4,
 "nbformat_minor": 5
}
